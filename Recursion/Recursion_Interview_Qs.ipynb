{
 "cells": [
  {
   "cell_type": "markdown",
   "id": "0e2acf81",
   "metadata": {},
   "source": [
    "# Reverse a String\n",
    "This interview question requires you to reverse a string using recursion. Make sure to think of the base case here.\n",
    "\n",
    "Again, make sure you use recursion to accomplish this. Do not slice (e.g. string[::-1]) or use iteration, there must be a recursive call for the function.\n",
    "\n",
    "##  Fill out your solution below"
   ]
  },
  {
   "cell_type": "code",
   "execution_count": 11,
   "id": "c14dc6cd",
   "metadata": {},
   "outputs": [],
   "source": [
    "def reverse(s):\n",
    "    if len(str(s)) <= 1:\n",
    "        return s\n",
    "    #print(reverse(s[1:]) + s[0])\n",
    "    return reverse(s[1:])+ s[0]"
   ]
  },
  {
   "cell_type": "code",
   "execution_count": 12,
   "id": "6f4b0c9e",
   "metadata": {},
   "outputs": [
    {
     "data": {
      "text/plain": [
       "'dlrow olleh'"
      ]
     },
     "execution_count": 12,
     "metadata": {},
     "output_type": "execute_result"
    }
   ],
   "source": [
    "reverse('hello world')"
   ]
  },
  {
   "cell_type": "markdown",
   "id": "ed5c1e12",
   "metadata": {},
   "source": [
    "# String Permutation\n",
    "## Problem Statement\n",
    "Given a string, write a function that uses recursion to output a list of all the possible permutations of that string.\n",
    "\n",
    "For example, given s='abc' the function should return ['abc', 'acb', 'bac', 'bca', 'cab', 'cba']\n",
    "\n",
    "Note: If a character is repeated, treat each occurence as distinct, for example an input of 'xxx' would return a list with 6 \"versions\" of 'xxx'\n",
    "\n",
    "## Fill Out Your Solution Below\n",
    "Let's think about what the steps we need to take here are:"
   ]
  },
  {
   "cell_type": "code",
   "execution_count": 26,
   "id": "d697c938",
   "metadata": {},
   "outputs": [],
   "source": [
    "def permute(s):\n",
    "    out = []\n",
    "    if len(s)==1:\n",
    "        out = [s]\n",
    "    else:\n",
    "        for i,let in enumerate(s):\n",
    "            print(\"-----------\")\n",
    "            print(\"Out is: \",out)\n",
    "            print(\"I is\",i)\n",
    "            print(\"Let is\", let)\n",
    "            for perm in permute(s[:i]+s[i+1:]):\n",
    "                print(\"Current letter:\",let)\n",
    "                print(\"Perm: \",perm)\n",
    "                out += [let+perm]\n",
    "    return out\n",
    "            \n",
    "    "
   ]
  },
  {
   "cell_type": "code",
   "execution_count": 27,
   "id": "9aae1954",
   "metadata": {},
   "outputs": [
    {
     "name": "stdout",
     "output_type": "stream",
     "text": [
      "-----------\n",
      "Out is:  []\n",
      "I is 0\n",
      "Let is a\n",
      "-----------\n",
      "Out is:  []\n",
      "I is 0\n",
      "Let is b\n",
      "Current letter: b\n",
      "Perm:  c\n",
      "-----------\n",
      "Out is:  ['bc']\n",
      "I is 1\n",
      "Let is c\n",
      "Current letter: c\n",
      "Perm:  b\n",
      "Current letter: a\n",
      "Perm:  bc\n",
      "Current letter: a\n",
      "Perm:  cb\n",
      "-----------\n",
      "Out is:  ['abc', 'acb']\n",
      "I is 1\n",
      "Let is b\n",
      "-----------\n",
      "Out is:  []\n",
      "I is 0\n",
      "Let is a\n",
      "Current letter: a\n",
      "Perm:  c\n",
      "-----------\n",
      "Out is:  ['ac']\n",
      "I is 1\n",
      "Let is c\n",
      "Current letter: c\n",
      "Perm:  a\n",
      "Current letter: b\n",
      "Perm:  ac\n",
      "Current letter: b\n",
      "Perm:  ca\n",
      "-----------\n",
      "Out is:  ['abc', 'acb', 'bac', 'bca']\n",
      "I is 2\n",
      "Let is c\n",
      "-----------\n",
      "Out is:  []\n",
      "I is 0\n",
      "Let is a\n",
      "Current letter: a\n",
      "Perm:  b\n",
      "-----------\n",
      "Out is:  ['ab']\n",
      "I is 1\n",
      "Let is b\n",
      "Current letter: b\n",
      "Perm:  a\n",
      "Current letter: c\n",
      "Perm:  ab\n",
      "Current letter: c\n",
      "Perm:  ba\n"
     ]
    },
    {
     "data": {
      "text/plain": [
       "['abc', 'acb', 'bac', 'bca', 'cab', 'cba']"
      ]
     },
     "execution_count": 27,
     "metadata": {},
     "output_type": "execute_result"
    }
   ],
   "source": [
    "permute('abc')"
   ]
  },
  {
   "cell_type": "markdown",
   "id": "eb975147",
   "metadata": {},
   "source": [
    "# Fibonnaci Sequence\n",
    "In this interview excercise we will begin to get a feel of having to solve a single problem multiple ways!\n",
    "\n",
    "## Problem Statement\n",
    "Implement a Fibonnaci Sequence in three different ways:\n",
    "\n",
    "* Recursively\n",
    "* Dynamically (Using Memoization to store results)\n",
    "* Iteratively\n",
    "-----------------------------------------------------------------------------------------------------\n",
    "# Function Output\n",
    "Your function will accept a number n and return the nth number of the fibonacci sequence ___ Remember that a fibonacci sequence: 0,1,1,2,3,5,8,13,21,... starts off with a base case checking to see if n = 0 or 1, then it returns 1.\n",
    "\n",
    "Else it returns fib(n-1)+fib(n+2). \n",
    "\n",
    "----------------------------------------------------------------------------------------------------------------\n",
    "# Fill Out Your Solutions Below\n",
    "## Recursively\n",
    "Solve the problem using simple recursion."
   ]
  },
  {
   "cell_type": "code",
   "execution_count": 41,
   "id": "b6b2f0bd",
   "metadata": {},
   "outputs": [],
   "source": [
    "def fib_rec(n):\n",
    "    if n==0 or n==1:\n",
    "        return n\n",
    "    else :\n",
    "        return fib_rec(n-1)+fib_rec(n-2)\n",
    "    "
   ]
  },
  {
   "cell_type": "code",
   "execution_count": 51,
   "id": "b5e34bfe",
   "metadata": {},
   "outputs": [
    {
     "data": {
      "text/plain": [
       "144"
      ]
     },
     "execution_count": 51,
     "metadata": {},
     "output_type": "execute_result"
    }
   ],
   "source": [
    "fib_rec(12)"
   ]
  },
  {
   "cell_type": "markdown",
   "id": "9f57f600",
   "metadata": {},
   "source": [
    "## Dynamically\n",
    "Implement the function using dynamic programming by using a cache to store results (memoization)."
   ]
  },
  {
   "cell_type": "code",
   "execution_count": 48,
   "id": "86bb09fd",
   "metadata": {},
   "outputs": [],
   "source": [
    "\n",
    "def fib_dyn(n):\n",
    "    cache = [None]*(n+1)\n",
    "    if n==0 or n==1:\n",
    "        return n\n",
    "    if cache[n]!=None:\n",
    "        return cache[n]\n",
    "    cache[n] = fib_dyn(n-1)+fib_dyn(n-2)\n",
    "    return cache[n]"
   ]
  },
  {
   "cell_type": "code",
   "execution_count": 50,
   "id": "aa4526e8",
   "metadata": {},
   "outputs": [
    {
     "data": {
      "text/plain": [
       "55"
      ]
     },
     "execution_count": 50,
     "metadata": {},
     "output_type": "execute_result"
    }
   ],
   "source": [
    "fib_dyn(10)"
   ]
  },
  {
   "cell_type": "markdown",
   "id": "3e4afe8f",
   "metadata": {},
   "source": [
    "## Iteratively\n",
    "Implement the solution with simple iteration."
   ]
  },
  {
   "cell_type": "code",
   "execution_count": 31,
   "id": "d2448cc7",
   "metadata": {},
   "outputs": [],
   "source": [
    "def fib_iter(n):\n",
    "    a = 0\n",
    "    b = 1\n",
    "    for i in range(n):\n",
    "        a,b = b,a+b\n",
    "    return a"
   ]
  },
  {
   "cell_type": "code",
   "execution_count": 32,
   "id": "ca9808fa",
   "metadata": {},
   "outputs": [
    {
     "data": {
      "text/plain": [
       "55"
      ]
     },
     "execution_count": 32,
     "metadata": {},
     "output_type": "execute_result"
    }
   ],
   "source": [
    "fib_iter(10)"
   ]
  },
  {
   "cell_type": "code",
   "execution_count": null,
   "id": "771b68aa",
   "metadata": {},
   "outputs": [],
   "source": []
  }
 ],
 "metadata": {
  "kernelspec": {
   "display_name": "Python 3 (ipykernel)",
   "language": "python",
   "name": "python3"
  },
  "language_info": {
   "codemirror_mode": {
    "name": "ipython",
    "version": 3
   },
   "file_extension": ".py",
   "mimetype": "text/x-python",
   "name": "python",
   "nbconvert_exporter": "python",
   "pygments_lexer": "ipython3",
   "version": "3.11.4"
  }
 },
 "nbformat": 4,
 "nbformat_minor": 5
}
