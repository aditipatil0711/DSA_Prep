{
 "cells": [
  {
   "cell_type": "markdown",
   "id": "9ddf234d",
   "metadata": {},
   "source": [
    "# Balanced Parentheses Check\n",
    "\n",
    "## Problem Statement\n",
    "Given a string of opening and closing parentheses, check whether it’s balanced. We have 3 types of parentheses: round brackets: (), square brackets: [], and curly brackets: {}. Assume that the string doesn’t contain any other character than these, no spaces words or numbers. As a reminder, balanced parentheses require every opening parenthesis to be closed in the reverse order opened. For example ‘([])’ is balanced but ‘([)]’ is not.\n",
    "\n",
    "You can assume the input string has no spaces."
   ]
  },
  {
   "cell_type": "code",
   "execution_count": null,
   "id": "1ca8275b",
   "metadata": {},
   "outputs": [],
   "source": [
    "def balanced_parenthesis(s):\n",
    "    if len(s)%2!=0:\n",
    "        return False\n",
    "    opening= set('([{')\n",
    "    matches = set([('(',')'),('[',']'),('{','}')])\n",
    "    stack=[]\n",
    "    \n",
    "    for p in s:\n",
    "        if p in opening:\n",
    "            stack.append(p)\n",
    "        else:\n",
    "            if len(stack)==0:\n",
    "                return False\n",
    "            last_open = stack.pop()\n",
    "            if(last_open,p) not in matches:\n",
    "                return False "
   ]
  }
 ],
 "metadata": {
  "kernelspec": {
   "display_name": "Python 3 (ipykernel)",
   "language": "python",
   "name": "python3"
  },
  "language_info": {
   "codemirror_mode": {
    "name": "ipython",
    "version": 3
   },
   "file_extension": ".py",
   "mimetype": "text/x-python",
   "name": "python",
   "nbconvert_exporter": "python",
   "pygments_lexer": "ipython3",
   "version": "3.11.4"
  }
 },
 "nbformat": 4,
 "nbformat_minor": 5
}
