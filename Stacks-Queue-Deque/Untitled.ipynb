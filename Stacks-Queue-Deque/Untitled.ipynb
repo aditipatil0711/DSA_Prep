{
 "cells": [
  {
   "cell_type": "code",
   "execution_count": 1,
   "id": "274ca0cc",
   "metadata": {},
   "outputs": [],
   "source": [
    "class Deque(object):\n",
    "    def __init__(self):\n",
    "        self.items = []\n",
    "    \n",
    "    def isEmpty(self):\n",
    "        return self.items == []\n",
    "    \n",
    "    def size(self):\n",
    "        return len(self.items)\n",
    "    \n",
    "    def addFront(self,item):\n",
    "        self.items.append(item)\n",
    "    \n",
    "    def addRear(self,item):\n",
    "         self.items.insert(0,item)\n",
    "    \n",
    "    def removeFront(self):\n",
    "        return self.items.pop()\n",
    "    \n",
    "    def removeRear(self):\n",
    "        return self.items.pop(0)"
   ]
  },
  {
   "cell_type": "code",
   "execution_count": 5,
   "id": "69aa02fc",
   "metadata": {},
   "outputs": [],
   "source": [
    "d = Deque()"
   ]
  },
  {
   "cell_type": "code",
   "execution_count": 6,
   "id": "0df77a0c",
   "metadata": {},
   "outputs": [
    {
     "name": "stdout",
     "output_type": "stream",
     "text": [
      "True\n"
     ]
    }
   ],
   "source": [
    "print(d.isEmpty())"
   ]
  },
  {
   "cell_type": "code",
   "execution_count": 17,
   "id": "2ec1dc6d",
   "metadata": {},
   "outputs": [],
   "source": [
    "d.addFront('my')"
   ]
  },
  {
   "cell_type": "code",
   "execution_count": 18,
   "id": "8e50d824",
   "metadata": {},
   "outputs": [],
   "source": [
    "d.addRear('name')"
   ]
  },
  {
   "cell_type": "code",
   "execution_count": 19,
   "id": "5a2151a7",
   "metadata": {},
   "outputs": [],
   "source": [
    "d.addRear('is')"
   ]
  },
  {
   "cell_type": "code",
   "execution_count": 20,
   "id": "aa90b1f0",
   "metadata": {},
   "outputs": [],
   "source": [
    "d.addFront('Addy')"
   ]
  },
  {
   "cell_type": "code",
   "execution_count": 21,
   "id": "e74e1cff",
   "metadata": {},
   "outputs": [
    {
     "data": {
      "text/plain": [
       "4"
      ]
     },
     "execution_count": 21,
     "metadata": {},
     "output_type": "execute_result"
    }
   ],
   "source": [
    "d.size()"
   ]
  },
  {
   "cell_type": "code",
   "execution_count": 22,
   "id": "0b2c938e",
   "metadata": {},
   "outputs": [
    {
     "data": {
      "text/plain": [
       "'is'"
      ]
     },
     "execution_count": 22,
     "metadata": {},
     "output_type": "execute_result"
    }
   ],
   "source": [
    "d.removeRear()"
   ]
  },
  {
   "cell_type": "code",
   "execution_count": 24,
   "id": "f8a35543",
   "metadata": {},
   "outputs": [],
   "source": [
    "d.removeFront()"
   ]
  },
  {
   "cell_type": "code",
   "execution_count": null,
   "id": "d157469f",
   "metadata": {},
   "outputs": [],
   "source": []
  }
 ],
 "metadata": {
  "kernelspec": {
   "display_name": "Python 3 (ipykernel)",
   "language": "python",
   "name": "python3"
  },
  "language_info": {
   "codemirror_mode": {
    "name": "ipython",
    "version": 3
   },
   "file_extension": ".py",
   "mimetype": "text/x-python",
   "name": "python",
   "nbconvert_exporter": "python",
   "pygments_lexer": "ipython3",
   "version": "3.11.4"
  }
 },
 "nbformat": 4,
 "nbformat_minor": 5
}
