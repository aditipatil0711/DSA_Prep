{
 "cells": [
  {
   "cell_type": "markdown",
   "id": "b462d693",
   "metadata": {},
   "source": [
    "# Implement a Queue - Using Two Stacks\n",
    "Given the Stack class below, implement a Queue class using two stacks! Note, this is a \"classic\" interview problem. Use a Python list data structure as your Stack."
   ]
  },
  {
   "cell_type": "code",
   "execution_count": 1,
   "id": "e2afe79b",
   "metadata": {},
   "outputs": [],
   "source": [
    "# Uses lists instead of your own Stack class.\n",
    "instack = []\n",
    "outstack = []"
   ]
  },
  {
   "cell_type": "code",
   "execution_count": 2,
   "id": "d3032f13",
   "metadata": {},
   "outputs": [],
   "source": [
    "class Queue2Stacks(object):\n",
    "    \n",
    "    def __init__(self):\n",
    "        \n",
    "        # Two Stacks\n",
    "        self.instack = []\n",
    "        self.outstack = []\n",
    "     \n",
    "    def enqueue(self,element):\n",
    "        self.instack.append(element)\n",
    "        # FILL OUT CODE HERE\n",
    "        pass\n",
    "    \n",
    "    def dequeue(self):\n",
    "        if not self.outstack:\n",
    "            while self.instack:\n",
    "                self.outstack.append(self.instack.pop())\n",
    "        # FILL OUT CODE HERE\n",
    "        return self.outstack.pop()  "
   ]
  },
  {
   "cell_type": "code",
   "execution_count": 3,
   "id": "8f1c5195",
   "metadata": {},
   "outputs": [
    {
     "name": "stdout",
     "output_type": "stream",
     "text": [
      "0\n",
      "1\n",
      "2\n",
      "3\n",
      "4\n"
     ]
    }
   ],
   "source": [
    "q = Queue2Stacks()\n",
    "\n",
    "for i in range(5):\n",
    "    q.enqueue(i)\n",
    "    \n",
    "for i in range(5):\n",
    "    print(q.dequeue())"
   ]
  },
  {
   "cell_type": "code",
   "execution_count": null,
   "id": "6fb03e83",
   "metadata": {},
   "outputs": [],
   "source": []
  }
 ],
 "metadata": {
  "kernelspec": {
   "display_name": "Python 3 (ipykernel)",
   "language": "python",
   "name": "python3"
  },
  "language_info": {
   "codemirror_mode": {
    "name": "ipython",
    "version": 3
   },
   "file_extension": ".py",
   "mimetype": "text/x-python",
   "name": "python",
   "nbconvert_exporter": "python",
   "pygments_lexer": "ipython3",
   "version": "3.11.4"
  }
 },
 "nbformat": 4,
 "nbformat_minor": 5
}
