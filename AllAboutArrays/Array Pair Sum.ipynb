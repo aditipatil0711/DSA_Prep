{
 "cells": [
  {
   "cell_type": "markdown",
   "id": "2cc5d2a1",
   "metadata": {},
   "source": [
    "# Array Pair Sum\n",
    "\n",
    "## Problem\n",
    "Given an integer array, output all the **unique** pairs that sum up to a specific value k.\n",
    "\n",
    "So the input:\n",
    "\n",
    "pair_sum([1,3,2,2],4)\n",
    "\n",
    "would return 2 pairs:\n",
    "\n",
    " (1,3)\n",
    " (2,2)\n",
    "\n",
    "**NOTE: FOR TESTING PURPOSES CHANGE YOUR FUNCTION SO IT OUTPUTS THE NUMBER OF PAIRS\n",
    "\n",
    "# Solution"
   ]
  },
  {
   "cell_type": "code",
   "execution_count": 8,
   "id": "f092c7e7",
   "metadata": {},
   "outputs": [],
   "source": [
    "def pair_sum(arr,k):\n",
    "    seen = set()\n",
    "    output = set()\n",
    "    if len(arr)<2:\n",
    "        return\n",
    "    for i in arr:\n",
    "        target = k-i\n",
    "        if target not in seen:\n",
    "            seen.add(i)\n",
    "        else:\n",
    "            output.add((min(i,target),max(i,target)))\n",
    "    return len(output)"
   ]
  },
  {
   "cell_type": "code",
   "execution_count": 9,
   "id": "a3d5ff2c",
   "metadata": {},
   "outputs": [
    {
     "data": {
      "text/plain": [
       "2"
      ]
     },
     "execution_count": 9,
     "metadata": {},
     "output_type": "execute_result"
    }
   ],
   "source": [
    "pair_sum([1,3,2,2],4)"
   ]
  },
  {
   "cell_type": "code",
   "execution_count": 11,
   "id": "6c2ec215",
   "metadata": {},
   "outputs": [
    {
     "data": {
      "text/plain": [
       "6"
      ]
     },
     "execution_count": 11,
     "metadata": {},
     "output_type": "execute_result"
    }
   ],
   "source": [
    "pair_sum([1,9,2,8,3,7,4,6,5,5,13,14,11,13,-1],10)\n"
   ]
  },
  {
   "cell_type": "code",
   "execution_count": null,
   "id": "61cb3bfb",
   "metadata": {},
   "outputs": [],
   "source": []
  }
 ],
 "metadata": {
  "kernelspec": {
   "display_name": "Python 3 (ipykernel)",
   "language": "python",
   "name": "python3"
  },
  "language_info": {
   "codemirror_mode": {
    "name": "ipython",
    "version": 3
   },
   "file_extension": ".py",
   "mimetype": "text/x-python",
   "name": "python",
   "nbconvert_exporter": "python",
   "pygments_lexer": "ipython3",
   "version": "3.11.4"
  }
 },
 "nbformat": 4,
 "nbformat_minor": 5
}
