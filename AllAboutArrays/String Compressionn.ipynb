{
 "cells": [
  {
   "cell_type": "markdown",
   "id": "2dc6f278",
   "metadata": {},
   "source": [
    "# String Compression\n",
    "## Problem\n",
    "Given a string in the form 'AAAABBBBCCCCCDDEEEE' compress it to become 'A4B4C5D2E4'. For this problem, you can falsely \"compress\" strings of single or double letters. For instance, it is okay for 'AAB' to return 'A2B1' even though this technically takes more space.\n",
    "\n",
    "The function should also be case sensitive, so that a string 'AAAaaa' returns 'A3a3'.\n",
    "\n",
    "# Solution\n",
    "Fill out your solution below:"
   ]
  },
  {
   "cell_type": "code",
   "execution_count": 3,
   "id": "cddbb2a6",
   "metadata": {},
   "outputs": [],
   "source": [
    "def compress(s):\n",
    "    # Run length comression algo\n",
    "    r = \"\"\n",
    "    l = len(s)\n",
    "    \n",
    "    if l == 0:\n",
    "        return \"\"\n",
    "    \n",
    "    if l == 1:\n",
    "        return s+\"1\"\n",
    "    \n",
    "    last = s[0]\n",
    "    count = 1\n",
    "    \n",
    "    i = 1\n",
    "    while i<l:\n",
    "        if s[i] == s[i-1]:\n",
    "            count +=1\n",
    "        else:\n",
    "            r = r +s[i-1] + str(count)\n",
    "            count = 1\n",
    "        i +=1\n",
    "    r =r + s[i-1] + str(count)\n",
    "    \n",
    "    return r \n",
    "    "
   ]
  },
  {
   "cell_type": "code",
   "execution_count": 4,
   "id": "6d8dfec9",
   "metadata": {},
   "outputs": [
    {
     "data": {
      "text/plain": [
       "'A2B2'"
      ]
     },
     "execution_count": 4,
     "metadata": {},
     "output_type": "execute_result"
    }
   ],
   "source": [
    "compress('AABB')"
   ]
  },
  {
   "cell_type": "code",
   "execution_count": 5,
   "id": "d2af455e",
   "metadata": {},
   "outputs": [
    {
     "data": {
      "text/plain": [
       "'A5B4C4'"
      ]
     },
     "execution_count": 5,
     "metadata": {},
     "output_type": "execute_result"
    }
   ],
   "source": [
    "compress('AAAAABBBBCCCC')"
   ]
  },
  {
   "cell_type": "code",
   "execution_count": 6,
   "id": "ddfebc6c",
   "metadata": {},
   "outputs": [
    {
     "data": {
      "text/plain": [
       "'A2b2n2C2i1s1h1s1g1d1k1h1'"
      ]
     },
     "execution_count": 6,
     "metadata": {},
     "output_type": "execute_result"
    }
   ],
   "source": [
    "compress('AAbbnnCCishsgdkh')"
   ]
  },
  {
   "cell_type": "code",
   "execution_count": null,
   "id": "1c61af78",
   "metadata": {},
   "outputs": [],
   "source": []
  }
 ],
 "metadata": {
  "kernelspec": {
   "display_name": "Python 3 (ipykernel)",
   "language": "python",
   "name": "python3"
  },
  "language_info": {
   "codemirror_mode": {
    "name": "ipython",
    "version": 3
   },
   "file_extension": ".py",
   "mimetype": "text/x-python",
   "name": "python",
   "nbconvert_exporter": "python",
   "pygments_lexer": "ipython3",
   "version": "3.11.4"
  }
 },
 "nbformat": 4,
 "nbformat_minor": 5
}
