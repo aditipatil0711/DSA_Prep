{
 "cells": [
  {
   "cell_type": "markdown",
   "id": "e8ed142d",
   "metadata": {},
   "source": [
    "# Largest Continuous Sum\n",
    "## Problem\n",
    "Given an array of integers (positive and negative) find the largest continuous sum.\n",
    "\n",
    "# Solution\n",
    "Fill out your solution below:"
   ]
  },
  {
   "cell_type": "code",
   "execution_count": 6,
   "id": "d8e9b002",
   "metadata": {},
   "outputs": [],
   "source": [
    "def large_cont_sum(arr): \n",
    "    if len(arr)==0:\n",
    "        return 0\n",
    "    \n",
    "    maxsum = currsum = arr[0]\n",
    "    for i in arr[1:]:\n",
    "        currsum = max(currsum+i,i)\n",
    "        maxsum = max(currsum,maxsum)\n",
    "    return maxsum"
   ]
  },
  {
   "cell_type": "code",
   "execution_count": 7,
   "id": "1081016c",
   "metadata": {},
   "outputs": [
    {
     "data": {
      "text/plain": [
       "29"
      ]
     },
     "execution_count": 7,
     "metadata": {},
     "output_type": "execute_result"
    }
   ],
   "source": [
    "\n",
    "large_cont_sum([1,2,-1,3,4,10,10,-10,-1])"
   ]
  },
  {
   "cell_type": "code",
   "execution_count": null,
   "id": "56908660",
   "metadata": {},
   "outputs": [],
   "source": []
  }
 ],
 "metadata": {
  "kernelspec": {
   "display_name": "Python 3 (ipykernel)",
   "language": "python",
   "name": "python3"
  },
  "language_info": {
   "codemirror_mode": {
    "name": "ipython",
    "version": 3
   },
   "file_extension": ".py",
   "mimetype": "text/x-python",
   "name": "python",
   "nbconvert_exporter": "python",
   "pygments_lexer": "ipython3",
   "version": "3.11.4"
  }
 },
 "nbformat": 4,
 "nbformat_minor": 5
}
