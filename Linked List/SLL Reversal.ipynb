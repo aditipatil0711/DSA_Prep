{
 "cells": [
  {
   "cell_type": "markdown",
   "id": "81bfb674",
   "metadata": {},
   "source": [
    "# Linked List Reversal\n",
    "## Problem\n",
    "Write a function to reverse a Linked List in place. The function will take in the head of the list as input and return the new head of the list.\n",
    "\n",
    "You are given the example Linked List Node class:"
   ]
  },
  {
   "cell_type": "code",
   "execution_count": 1,
   "id": "fadf21b8",
   "metadata": {},
   "outputs": [],
   "source": [
    "class Node(object):\n",
    "    \n",
    "    def __init__(self,value):\n",
    "        \n",
    "        self.value = value\n",
    "        self.nextnode = None"
   ]
  },
  {
   "cell_type": "markdown",
   "id": "37bf0dc4",
   "metadata": {},
   "source": [
    "# Solution\n",
    "Fill out your solution below:"
   ]
  },
  {
   "cell_type": "code",
   "execution_count": 2,
   "id": "4abfb4a1",
   "metadata": {},
   "outputs": [],
   "source": [
    "def reverse(head):\n",
    "    current = head\n",
    "    prev = None\n",
    "    nex = None\n",
    "    \n",
    "    while current:\n",
    "        nex = current.nextnode\n",
    "        current.nextnode = prev\n",
    "        prev = current\n",
    "        current = nex\n",
    "    return prev"
   ]
  },
  {
   "cell_type": "code",
   "execution_count": 3,
   "id": "f850d758",
   "metadata": {},
   "outputs": [],
   "source": [
    "# Create a list of 4 nodes\n",
    "a = Node(1)\n",
    "b = Node(2)\n",
    "c = Node(3)\n",
    "d = Node(4)\n",
    "\n",
    "# Set up order a,b,c,d with values 1,2,3,4\n",
    "a.nextnode = b\n",
    "b.nextnode = c\n",
    "c.nextnode = d"
   ]
  },
  {
   "cell_type": "code",
   "execution_count": null,
   "id": "c9854c14",
   "metadata": {},
   "outputs": [],
   "source": []
  }
 ],
 "metadata": {
  "kernelspec": {
   "display_name": "Python 3 (ipykernel)",
   "language": "python",
   "name": "python3"
  },
  "language_info": {
   "codemirror_mode": {
    "name": "ipython",
    "version": 3
   },
   "file_extension": ".py",
   "mimetype": "text/x-python",
   "name": "python",
   "nbconvert_exporter": "python",
   "pygments_lexer": "ipython3",
   "version": "3.11.4"
  }
 },
 "nbformat": 4,
 "nbformat_minor": 5
}
