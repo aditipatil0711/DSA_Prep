{
 "cells": [
  {
   "cell_type": "code",
   "execution_count": 1,
   "id": "f884ff25",
   "metadata": {},
   "outputs": [],
   "source": [
    "class DLLNode(object):\n",
    "    def __init__(self,value):\n",
    "        self.value = value\n",
    "        self.next_node = None\n",
    "        self.prev_node = None\n",
    "    "
   ]
  },
  {
   "cell_type": "code",
   "execution_count": 2,
   "id": "99269f6d",
   "metadata": {},
   "outputs": [],
   "source": [
    "a = DLLNode(1)\n",
    "b = DLLNode(2)\n",
    "c = DLLNode(3)"
   ]
  },
  {
   "cell_type": "code",
   "execution_count": null,
   "id": "b3300bf5",
   "metadata": {},
   "outputs": [],
   "source": [
    "a.next_node = b\n",
    "b.prev_node ="
   ]
  }
 ],
 "metadata": {
  "kernelspec": {
   "display_name": "Python 3 (ipykernel)",
   "language": "python",
   "name": "python3"
  },
  "language_info": {
   "codemirror_mode": {
    "name": "ipython",
    "version": 3
   },
   "file_extension": ".py",
   "mimetype": "text/x-python",
   "name": "python",
   "nbconvert_exporter": "python",
   "pygments_lexer": "ipython3",
   "version": "3.11.4"
  }
 },
 "nbformat": 4,
 "nbformat_minor": 5
}
