{
 "cells": [
  {
   "cell_type": "markdown",
   "id": "df6dc3fb",
   "metadata": {},
   "source": [
    "# Linked List Nth to Last Node\n",
    "## Problem Statement\n",
    "Write a function that takes a head node and an integer value n and then returns the nth to last node in the linked list. For example, given:\n",
    "\n",
    "# Solution\n",
    "Fill out your solution below:\n"
   ]
  },
  {
   "cell_type": "code",
   "execution_count": 2,
   "id": "ab8daa5f",
   "metadata": {},
   "outputs": [],
   "source": [
    "class Node:\n",
    "\n",
    "    def __init__(self, value):\n",
    "        self.value = value\n",
    "        self.nextnode  = None"
   ]
  },
  {
   "cell_type": "code",
   "execution_count": 3,
   "id": "810df084",
   "metadata": {},
   "outputs": [],
   "source": [
    "def nth_to_last_node(n, head):\n",
    "    left_ptr = head\n",
    "    r_ptr =head\n",
    "    \n",
    "    for i in range(n-1):\n",
    "        if not r_ptr.nextnode:\n",
    "            raise LookupError(\"Error: n is larger than linkedlist\")\n",
    "            \n",
    "        r_ptr = r_ptr.nextnode\n",
    "    \n",
    "    while r_ptr.nextnode:\n",
    "        left_ptr = left_ptr.nextnode\n",
    "        r_ptr = r_ptr.nextnode\n",
    "    return left_ptr"
   ]
  },
  {
   "cell_type": "code",
   "execution_count": 4,
   "id": "3b39a687",
   "metadata": {},
   "outputs": [],
   "source": [
    "a = Node(1)\n",
    "b = Node(2)\n",
    "c = Node(3)\n",
    "d = Node(4)\n",
    "e = Node(5)\n",
    "\n",
    "a.nextnode = b\n",
    "b.nextnode = c\n",
    "c.nextnode = d\n",
    "d.nextnode = e\n",
    "\n",
    "# This would return the node d with a value of 4, because its the 2nd to last node.\n",
    "target_node = nth_to_last_node(2, a) "
   ]
  },
  {
   "cell_type": "code",
   "execution_count": 6,
   "id": "f9dfb02e",
   "metadata": {},
   "outputs": [
    {
     "data": {
      "text/plain": [
       "4"
      ]
     },
     "execution_count": 6,
     "metadata": {},
     "output_type": "execute_result"
    }
   ],
   "source": [
    "target_node.value"
   ]
  },
  {
   "cell_type": "code",
   "execution_count": null,
   "id": "539f90e9",
   "metadata": {},
   "outputs": [],
   "source": []
  },
  {
   "cell_type": "markdown",
   "id": "ba74436e",
   "metadata": {},
   "source": [
    "## Doubly Linked List"
   ]
  },
  {
   "cell_type": "code",
   "execution_count": null,
   "id": "213abfc8",
   "metadata": {},
   "outputs": [],
   "source": []
  }
 ],
 "metadata": {
  "kernelspec": {
   "display_name": "Python 3 (ipykernel)",
   "language": "python",
   "name": "python3"
  },
  "language_info": {
   "codemirror_mode": {
    "name": "ipython",
    "version": 3
   },
   "file_extension": ".py",
   "mimetype": "text/x-python",
   "name": "python",
   "nbconvert_exporter": "python",
   "pygments_lexer": "ipython3",
   "version": "3.11.4"
  }
 },
 "nbformat": 4,
 "nbformat_minor": 5
}
